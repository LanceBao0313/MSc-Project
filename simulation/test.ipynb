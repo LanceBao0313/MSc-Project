{
 "cells": [
  {
   "cell_type": "code",
   "execution_count": 1,
   "metadata": {},
   "outputs": [],
   "source": [
    "import os\n",
    "import torch\n",
    "from model import replace_fc_layer, load_checkpoint\n",
    "from mcunet.mcunet.model_zoo import build_model"
   ]
  },
  {
   "cell_type": "code",
   "execution_count": 10,
   "metadata": {},
   "outputs": [],
   "source": [
    "model, optimizer = load_checkpoint(\"checkpoints/device_0_checkpoint.pth\")\n",
    "weight = model.classifier.weight.data"
   ]
  },
  {
   "cell_type": "code",
   "execution_count": 7,
   "metadata": {},
   "outputs": [],
   "source": [
    "model2, resolution, description = build_model(net_id=\"mcunet-in3\", pretrained=True)\n",
    "model2 = replace_fc_layer(model2, 10)"
   ]
  },
  {
   "cell_type": "code",
   "execution_count": 2,
   "metadata": {},
   "outputs": [],
   "source": [
    "model = load_checkpoint(\"./checkpoints/baseline_checkpoint_80.pth\")\n"
   ]
  },
  {
   "cell_type": "code",
   "execution_count": 7,
   "metadata": {},
   "outputs": [
    {
     "data": {
      "text/plain": [
       "Sequential(\n",
       "  (0): Linear(in_features=160, out_features=128, bias=True)\n",
       "  (1): ReLU()\n",
       "  (2): Linear(in_features=128, out_features=64, bias=True)\n",
       "  (3): ReLU()\n",
       "  (4): Linear(in_features=64, out_features=10, bias=True)\n",
       ")"
      ]
     },
     "execution_count": 7,
     "metadata": {},
     "output_type": "execute_result"
    }
   ],
   "source": [
    "model.classifier"
   ]
  },
  {
   "cell_type": "code",
   "execution_count": 12,
   "metadata": {},
   "outputs": [],
   "source": [
    "model2.classifier.weight.data = weight"
   ]
  },
  {
   "cell_type": "code",
   "execution_count": 13,
   "metadata": {},
   "outputs": [
    {
     "data": {
      "text/plain": [
       "tensor([[ 0.0512,  0.0375,  0.0081,  ..., -0.0418,  0.0016,  0.0161],\n",
       "        [-0.0346, -0.0411, -0.0662,  ..., -0.0101,  0.0288,  0.0596],\n",
       "        [ 0.0088,  0.0588, -0.0079,  ..., -0.0399,  0.0230,  0.0175],\n",
       "        ...,\n",
       "        [-0.0052, -0.0124, -0.0114,  ...,  0.0397, -0.0349,  0.0437],\n",
       "        [-0.0549,  0.0351,  0.0417,  ..., -0.0242, -0.0100, -0.0258],\n",
       "        [ 0.0423,  0.0002, -0.0330,  ...,  0.0102, -0.0125,  0.0076]])"
      ]
     },
     "execution_count": 13,
     "metadata": {},
     "output_type": "execute_result"
    }
   ],
   "source": [
    "model2.classifier.weight.data"
   ]
  },
  {
   "cell_type": "code",
   "execution_count": 11,
   "metadata": {},
   "outputs": [
    {
     "name": "stdout",
     "output_type": "stream",
     "text": [
      "Client 0: 2649 samples\n",
      "Client 1: 2759 samples\n",
      "Client 2: 2449 samples\n",
      "Client 3: 2452 samples\n",
      "Client 4: 2454 samples\n",
      "Client 5: 2299 samples\n",
      "Client 6: 2716 samples\n",
      "Client 7: 2457 samples\n",
      "Client 8: 2491 samples\n",
      "Client 9: 2577 samples\n",
      "Client 10: 2308 samples\n",
      "Client 11: 2469 samples\n",
      "Client 12: 2450 samples\n",
      "Client 13: 2676 samples\n",
      "Client 14: 2346 samples\n",
      "Client 15: 2496 samples\n",
      "Client 16: 2427 samples\n",
      "Client 17: 2560 samples\n",
      "Client 18: 2477 samples\n",
      "Client 19: 2488 samples\n"
     ]
    }
   ],
   "source": [
    "import numpy as np\n",
    "import torch\n",
    "from torch.utils.data import DataLoader, Subset, Dataset\n",
    "from typing import List, Tuple\n",
    "import torchvision\n",
    "import torchvision.transforms as transforms\n",
    "\n",
    "def _download_data(dataset_name: str):\n",
    "    transform = transforms.Compose([transforms.ToTensor()])\n",
    "    \n",
    "    if dataset_name == \"cifar10\":\n",
    "        trainset = torchvision.datasets.CIFAR10(root='./dataset', train=True, download=False, transform=transform)\n",
    "        testset = torchvision.datasets.CIFAR10(root='./dataset', train=False, download=False, transform=transform)\n",
    "    else:\n",
    "        raise ValueError(f\"Unsupported dataset: {dataset_name}\")\n",
    "    \n",
    "    return trainset, testset\n",
    "\n",
    "def partition_data_dirichlet(\n",
    "    num_clients, alpha, batch_size, seed=42, dataset_name=\"cifar10\"\n",
    ") -> Tuple[List[DataLoader], DataLoader]:\n",
    "    \"\"\"Partition according to the Dirichlet distribution.\n",
    "\n",
    "    Parameters\n",
    "    ----------\n",
    "    num_clients : int\n",
    "        The number of clients that hold a part of the data\n",
    "    alpha: float\n",
    "        Parameter of the Dirichlet distribution\n",
    "    batch_size: int\n",
    "        Batch size for the data loaders\n",
    "    seed : int, optional\n",
    "        Used to set a fix seed to replicate experiments, by default 42\n",
    "    dataset_name : str\n",
    "        Name of the dataset to be used\n",
    "\n",
    "    Returns\n",
    "    -------\n",
    "    Tuple[List[DataLoader], DataLoader]\n",
    "        The list of data loaders for each client, the test data loader.\n",
    "    \"\"\"\n",
    "    trainset, testset = _download_data(dataset_name)\n",
    "    min_required_samples_per_client = 10\n",
    "    min_samples = 0\n",
    "    prng = np.random.default_rng(seed)\n",
    "\n",
    "    # get the targets\n",
    "    tmp_t = trainset.targets\n",
    "    if isinstance(tmp_t, list):\n",
    "        tmp_t = np.array(tmp_t)\n",
    "    if isinstance(tmp_t, torch.Tensor):\n",
    "        tmp_t = tmp_t.numpy()\n",
    "    num_classes = len(set(tmp_t))\n",
    "    total_samples = len(tmp_t)\n",
    "    while min_samples < min_required_samples_per_client:\n",
    "        idx_clients: List[List[int]] = [[] for _ in range(num_clients)]\n",
    "        for k in range(num_classes):\n",
    "            idx_k = np.where(tmp_t == k)[0]\n",
    "            prng.shuffle(idx_k)\n",
    "            proportions = prng.dirichlet(np.repeat(alpha, num_clients))\n",
    "            proportions = np.array(\n",
    "                [\n",
    "                    p * (len(idx_j) < total_samples / num_clients)\n",
    "                    for p, idx_j in zip(proportions, idx_clients)\n",
    "                ]\n",
    "            )\n",
    "            proportions = proportions / proportions.sum()\n",
    "            proportions = (np.cumsum(proportions) * len(idx_k)).astype(int)[:-1]\n",
    "            idx_k_split = np.split(idx_k, proportions)\n",
    "            idx_clients = [\n",
    "                idx_j + idx.tolist() for idx_j, idx in zip(idx_clients, idx_k_split)\n",
    "            ]\n",
    "            min_samples = min([len(idx_j) for idx_j in idx_clients])\n",
    "\n",
    "    trainsets_per_client = [Subset(trainset, idxs) for idxs in idx_clients]\n",
    "\n",
    "    # Create data loaders for each client\n",
    "    client_dataloaders = [DataLoader(dataset, batch_size=batch_size, shuffle=True) for dataset in trainsets_per_client]\n",
    "    test_dataloader = DataLoader(testset, batch_size=batch_size, shuffle=False)\n",
    "\n",
    "    return client_dataloaders, test_dataloader\n",
    "\n",
    "# Example usage\n",
    "num_clients = 20\n",
    "alpha = 20\n",
    "batch_size = 128\n",
    "\n",
    "client_dataloaders, test_dataloader = partition_data_dirichlet(num_clients, alpha, batch_size)\n",
    "\n",
    "# Print the number of samples for each client\n",
    "for client_id, dataloader in enumerate(client_dataloaders):\n",
    "    print(f\"Client {client_id}: {len(dataloader.dataset)} samples\")"
   ]
  },
  {
   "cell_type": "code",
   "execution_count": 1,
   "metadata": {},
   "outputs": [],
   "source": [
    "from dataset import get_nonIID_dataloader\n",
    "dataloaders = get_nonIID_dataloader(\"./dataset\", train=True)\n"
   ]
  },
  {
   "cell_type": "code",
   "execution_count": 10,
   "metadata": {},
   "outputs": [
    {
     "data": {
      "image/png": "[encoded data removed]",
      "text/plain": [
       "<Figure size 2000x500 with 1 Axes>"
      ]
     },
     "metadata": {},
     "output_type": "display_data"
    }
   ],
   "source": [
    "import matplotlib.pyplot as plt\n",
    "from collections import defaultdict\n",
    "\n",
    "\"\"\"Plot the class distribution for each client.\"\"\"\n",
    "num_clients = len(client_dataloaders)\n",
    "class_counts = defaultdict(lambda: np.zeros(10))\n",
    "\n",
    "for client_id, dataloader in enumerate(client_dataloaders):\n",
    "    for _, targets in dataloader:\n",
    "        for target in targets:\n",
    "            class_counts[client_id][target.item()] += 1\n",
    "\n",
    "fig, axes = plt.subplots(1, num_clients, figsize=(20, 5), sharey=True)\n",
    "if num_clients == 1:\n",
    "    axes = [axes]\n",
    "\n",
    "for client_id, ax in enumerate(axes):\n",
    "    ax.bar(range(10), class_counts[client_id])\n",
    "    ax.set_title(f'Client {client_id}')\n",
    "    ax.set_xlabel('Class')\n",
    "    ax.set_ylabel('Number of samples')\n",
    "    ax.set_xticks(range(10))\n",
    "\n",
    "plt.show()"
   ]
  },
  {
   "cell_type": "code",
   "execution_count": 27,
   "metadata": {},
   "outputs": [
    {
     "name": "stdout",
     "output_type": "stream",
     "text": [
      "1.0\n",
      "1.0\n",
      "__________________\n",
      "2.5\n",
      "2.5\n",
      "__________________\n",
      "2.3333333333333335\n",
      "2.3333333333333335\n",
      "__________________\n",
      "2.75\n",
      "2.75\n",
      "__________________\n",
      "3.4\n",
      "3.4\n",
      "__________________\n",
      "4.0\n",
      "4.0\n",
      "__________________\n",
      "3.857142857142857\n",
      "3.857142857142857\n",
      "__________________\n",
      "11.0\n",
      "11.0\n",
      "__________________\n",
      "10.444444444444445\n",
      "10.444444444444445\n",
      "__________________\n",
      "10.2\n",
      "10.2\n",
      "__________________\n",
      "11.909090909090908\n",
      "nan\n",
      "__________________\n"
     ]
    },
    {
     "name": "stderr",
     "output_type": "stream",
     "text": [
      "c:\\Users\\Lance Bao\\anaconda3\\envs\\HITL\\lib\\site-packages\\numpy\\core\\fromnumeric.py:3432: RuntimeWarning: Mean of empty slice.\n",
      "  return _methods._mean(a, axis=axis, dtype=dtype,\n",
      "c:\\Users\\Lance Bao\\anaconda3\\envs\\HITL\\lib\\site-packages\\numpy\\core\\_methods.py:190: RuntimeWarning: invalid value encountered in double_scalars\n",
      "  ret = ret.dtype.type(ret / rcount)\n"
     ]
    }
   ],
   "source": [
    "list = [1,4,2,4,6,7,3,61,6,8,29]\n",
    "counter = 0\n",
    "running_average = 0\n",
    "for i in range(len(list)):\n",
    "    counter += 1\n",
    "    running_average = running_average + (list[i] - running_average) / counter\n",
    "    print(running_average)\n",
    "    print(np.mean(list[:i-len(list)+1]))\n",
    "    print(\"__________________\")\n",
    "\n",
    "\n"
   ]
  },
  {
   "cell_type": "code",
   "execution_count": 29,
   "metadata": {},
   "outputs": [
    {
     "data": {
      "text/plain": [
       "[]"
      ]
     },
     "execution_count": 29,
     "metadata": {},
     "output_type": "execute_result"
    }
   ],
   "source": [
    "142  578 10  37/7"
   ]
  },
  {
   "cell_type": "code",
   "execution_count": null,
   "metadata": {},
   "outputs": [],
   "source": [
    "7/3 30/3 a+(b-a)/x = 37/7"
   ]
  },
  {
   "cell_type": "code",
   "execution_count": 33,
   "metadata": {},
   "outputs": [
    {
     "data": {
      "text/plain": [
       "[1, 2, 3, 1, 2, 3, 1, 2, 3]"
      ]
     },
     "execution_count": 33,
     "metadata": {},
     "output_type": "execute_result"
    }
   ],
   "source": [
    "[1,2,3] * 3"
   ]
  },
  {
   "cell_type": "code",
   "execution_count": 38,
   "metadata": {},
   "outputs": [],
   "source": [
    "import matplotlib.pyplot as plt\n",
    "\n",
    "acc = []\n",
    "f1 = []\n",
    "with open(\"result.txt\", \"r\") as f:\n",
    "    # read every line\n",
    "    for line in f:\n",
    "        # split the line into words\n",
    "        words = line.split(', ')\n",
    "        # convert the first word to an integer\n",
    "        acc.append(float(words[1]))\n",
    "        f1.append(float(words[2]))\n",
    "        "
   ]
  },
  {
   "cell_type": "code",
   "execution_count": 46,
   "metadata": {},
   "outputs": [
    {
     "data": {
      "text/plain": [
       "{'whiskers': [<matplotlib.lines.Line2D at 0x1b424914e80>,\n",
       "  <matplotlib.lines.Line2D at 0x1b424926190>,\n",
       "  <matplotlib.lines.Line2D at 0x1b4249332e0>,\n",
       "  <matplotlib.lines.Line2D at 0x1b4249335b0>],\n",
       " 'caps': [<matplotlib.lines.Line2D at 0x1b424926460>,\n",
       "  <matplotlib.lines.Line2D at 0x1b424926730>,\n",
       "  <matplotlib.lines.Line2D at 0x1b424933880>,\n",
       "  <matplotlib.lines.Line2D at 0x1b424933b50>],\n",
       " 'boxes': [<matplotlib.lines.Line2D at 0x1b424914b80>,\n",
       "  <matplotlib.lines.Line2D at 0x1b424926fd0>],\n",
       " 'medians': [<matplotlib.lines.Line2D at 0x1b424926a00>,\n",
       "  <matplotlib.lines.Line2D at 0x1b424933e20>],\n",
       " 'fliers': [<matplotlib.lines.Line2D at 0x1b424926cd0>,\n",
       "  <matplotlib.lines.Line2D at 0x1b42493f130>],\n",
       " 'means': []}"
      ]
     },
     "execution_count": 46,
     "metadata": {},
     "output_type": "execute_result"
    },
    {
     "data": {
      "image/png": "[encoded data removed]",
      "text/plain": [
       "<Figure size 640x480 with 1 Axes>"
      ]
     },
     "metadata": {},
     "output_type": "display_data"
    }
   ],
   "source": [
    "fig, ax = plt.subplots()\n",
    "acc.sort()\n",
    "f1.sort()\n",
    "ax.boxplot([acc, f1])\n"
   ]
  },
  {
   "cell_type": "code",
   "execution_count": 44,
   "metadata": {},
   "outputs": [
    {
     "data": {
      "text/plain": [
       "(array([1., 3., 2., 4., 6., 9., 7., 9., 6., 3.]),\n",
       " array([0.2421 , 0.29972, 0.35734, 0.41496, 0.47258, 0.5302 , 0.58782,\n",
       "        0.64544, 0.70306, 0.76068, 0.8183 ]),\n",
       " <BarContainer object of 10 artists>)"
      ]
     },
     "execution_count": 44,
     "metadata": {},
     "output_type": "execute_result"
    },
    {
     "data": {
      "image/png": "[encoded data removed]",
      "text/plain": [
       "<Figure size 640x480 with 1 Axes>"
      ]
     },
     "metadata": {},
     "output_type": "display_data"
    }
   ],
   "source": [
    "fig, ax = plt.subplots()\n",
    "ax.hist(f1, bins=10)"
   ]
  },
  {
   "cell_type": "code",
   "execution_count": null,
   "metadata": {},
   "outputs": [],
   "source": []
  }
 ],
 "metadata": {
  "kernelspec": {
   "display_name": "MLP",
   "language": "python",
   "name": "python3"
  },
  "language_info": {
   "codemirror_mode": {
    "name": "ipython",
    "version": 3
   },
   "file_extension": ".py",
   "mimetype": "text/x-python",
   "name": "python",
   "nbconvert_exporter": "python",
   "pygments_lexer": "ipython3",
   "version": "3.9.13"
  }
 },
 "nbformat": 4,
 "nbformat_minor": 2
}
